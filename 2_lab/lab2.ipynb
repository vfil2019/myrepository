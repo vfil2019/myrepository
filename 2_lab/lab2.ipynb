{
 "cells": [
  {
   "cell_type": "code",
   "execution_count": 33,
   "metadata": {},
   "outputs": [
    {
     "name": "stdout",
     "output_type": "stream",
     "text": [
      "5 is of type <class 'int'>\n",
      "Welcome is of type <class 'str'>\n",
      "[2, 4, 5.5, 'Hi'] is type of <class 'list'>\n",
      "(50, 15, 25.6, 'Python') is a type of <class 'tuple'>\n",
      "{1, 2.6, 'python', 5} is a type of <class 'set'>\n",
      "{1: 'Hi', 2: 7.5, 3: 'Class'} is a type of <class 'dict'>\n"
     ]
    }
   ],
   "source": [
    "a = 5\n",
    "print(a, 'is of type', type(a))\n",
    "String1 = 'Welcome'\n",
    "print(String1, 'is of type',type(String1))\n",
    "List = [2,4,5.5,'Hi']\n",
    "print(List, 'is type of', type(List))\n",
    "Tuple1 = (50,15,25.6,'Python')\n",
    "print(Tuple1, 'is a type of', type(Tuple1))\n",
    "Set = {5,1,2.6,'python'}\n",
    "print(Set,'is a type of', type(Set))\n",
    "Dict = {1:'Hi',2:7.5, 3:'Class'}\n",
    "print(Dict,'is a type of', type(Dict))"
   ]
  },
  {
   "cell_type": "code",
   "execution_count": 34,
   "metadata": {},
   "outputs": [
    {
     "name": "stdout",
     "output_type": "stream",
     "text": [
      "1 constant  True\n",
      "2 constant  False\n",
      "3 constant  None\n"
     ]
    }
   ],
   "source": [
    "print(\"1 constant \", True)\n",
    "print(\"2 constant \", False)\n",
    "print(\"3 constant \", None)"
   ]
  },
  {
   "cell_type": "code",
   "execution_count": 35,
   "metadata": {},
   "outputs": [
    {
     "name": "stdout",
     "output_type": "stream",
     "text": [
      "Help on built-in function abs in module builtins:\n",
      "\n",
      "abs(x, /)\n",
      "    Return the absolute value of the argument.\n",
      "\n",
      "None\n",
      "12.5\n",
      "8\n"
     ]
    }
   ],
   "source": [
    "print(help(abs)) #інформація про функцію\n",
    "print(abs(-12.5))#Return the absolute value of the argument.\n",
    "print(pow(2,3))# 2 в 3 степені"
   ]
  },
  {
   "cell_type": "code",
   "execution_count": 36,
   "metadata": {},
   "outputs": [
    {
     "name": "stdout",
     "output_type": "stream",
     "text": [
      "H\n",
      "e\n",
      "l\n",
      "l\n",
      "o\n",
      "number = 1\n",
      "number = 2\n",
      "number = 3\n",
      "number = 4\n"
     ]
    }
   ],
   "source": [
    "message = \"Hello\"\n",
    "for c in message:\n",
    "    print(c)\n",
    "number = 1\n",
    "while number < 5:\n",
    "    print(f\"number = {number}\")\n",
    "    number += 1    "
   ]
  },
  {
   "cell_type": "code",
   "execution_count": 37,
   "metadata": {},
   "outputs": [
    {
     "name": "stdout",
     "output_type": "stream",
     "text": [
      "b is smaller than a\n",
      "result =  435\n"
     ]
    }
   ],
   "source": [
    "a = 33\n",
    "b = 21\n",
    "if b > a: print(\"b is greater than a\")\n",
    "else:print(\"b is smaller than a\")\n",
    "a1 =2+ 23\n",
    "b2 = 3+432\n",
    "if a1>b2:print(\"result = \", a1)\n",
    "else: print(\"result = \", b2)"
   ]
  },
  {
   "cell_type": "code",
   "execution_count": 38,
   "metadata": {},
   "outputs": [
    {
     "name": "stdout",
     "output_type": "stream",
     "text": [
      "unsupported operand type(s) for +: 'int' and 'str'\n",
      " Exception\n"
     ]
    }
   ],
   "source": [
    "Str = \"string\"\n",
    "try:\n",
    "    print(200 + Str)\n",
    "except Exception as e:\n",
    "    print(e)\n",
    "finally:\n",
    "    print(\" Exception\")"
   ]
  },
  {
   "cell_type": "code",
   "execution_count": 39,
   "metadata": {},
   "outputs": [],
   "source": [
    "with open('file', 'w') as file:\n",
    "    file.write('ky')"
   ]
  },
  {
   "cell_type": "code",
   "execution_count": 40,
   "metadata": {},
   "outputs": [
    {
     "name": "stdout",
     "output_type": "stream",
     "text": [
      "квадрат 3 =  9\n",
      "квадрат 4 =  16\n"
     ]
    }
   ],
   "source": [
    "square = lambda n: n * n\n",
    " \n",
    "print('квадрат 3 = ',square(3))\n",
    "print(\"квадрат 4 = \",square(4))   "
   ]
  }
 ],
 "metadata": {
  "kernelspec": {
   "display_name": "Python 3.10.8 64-bit (microsoft store)",
   "language": "python",
   "name": "python3"
  },
  "language_info": {
   "codemirror_mode": {
    "name": "ipython",
    "version": 3
   },
   "file_extension": ".py",
   "mimetype": "text/x-python",
   "name": "python",
   "nbconvert_exporter": "python",
   "pygments_lexer": "ipython3",
   "version": "3.10.8"
  },
  "orig_nbformat": 4,
  "vscode": {
   "interpreter": {
    "hash": "3a16bfe74ac930743d73a48b67e471577fa50285d6eecbc17595a9777325e28c"
   }
  }
 },
 "nbformat": 4,
 "nbformat_minor": 2
}
