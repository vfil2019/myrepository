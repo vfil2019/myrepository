{
 "cells": [
  {
   "cell_type": "code",
   "execution_count": 9,
   "metadata": {},
   "outputs": [
    {
     "name": "stdout",
     "output_type": "stream",
     "text": [
      "Vitalik start programming at 2022-10-24 19:55:23.205903\n"
     ]
    }
   ],
   "source": [
    "from datetime import datetime\n",
    "name = \"Vitalik\"\n",
    "\n",
    "print(f\"{name} start programming at {datetime.now()}\")"
   ]
  },
  {
   "cell_type": "markdown",
   "metadata": {},
   "source": [
    "# head\n",
    "My first program\n",
    "\n",
    "sadhsah\n",
    "slpadjs\n"
   ]
  }
 ],
 "metadata": {
  "kernelspec": {
   "display_name": "Python 3.10.8 64-bit (microsoft store)",
   "language": "python",
   "name": "python3"
  },
  "language_info": {
   "codemirror_mode": {
    "name": "ipython",
    "version": 3
   },
   "file_extension": ".py",
   "mimetype": "text/x-python",
   "name": "python",
   "nbconvert_exporter": "python",
   "pygments_lexer": "ipython3",
   "version": "3.10.8"
  },
  "orig_nbformat": 4,
  "vscode": {
   "interpreter": {
    "hash": "3a16bfe74ac930743d73a48b67e471577fa50285d6eecbc17595a9777325e28c"
   }
  }
 },
 "nbformat": 4,
 "nbformat_minor": 2
}
